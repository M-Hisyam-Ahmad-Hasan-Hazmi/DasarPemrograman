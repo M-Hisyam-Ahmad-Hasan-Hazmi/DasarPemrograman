{
 "cells": [
  {
   "cell_type": "code",
   "execution_count": 1,
   "metadata": {},
   "outputs": [
    {
     "name": "stdout",
     "output_type": "stream",
     "text": [
      "Nama :M. Hisyam Ahmad Hasan Hazmi\n",
      "Kelas : TI J 22\n",
      "Nim : 20220040239\n",
      "\n",
      "\n",
      "====== Program kalkulator Sederhana ======\n",
      "======Hitung Luas Segitiga======\n",
      "Luas Segitiga Adalah:  72.0 cm2\n",
      "====== Program kalkulator Sederhana ======\n",
      "======Hitung Luas Persegi Panjang======\n",
      "Luas Persegi Panjang Adalah : 144 cm2\n",
      "====== Program kalkulator Sederhana ======\n",
      "======Menentukan Bilangan Ganjil dan Genap======\n",
      "13 adalah bilangan ganjil\n",
      "====== Program kalkulator Sederhana ======\n",
      "PROGRAM SELESAI TERIMAKASIH TELAH MEMAKAI APLIKASI KAMI🤞\n"
     ]
    }
   ],
   "source": [
    "print(\"Nama :M. Hisyam Ahmad Hasan Hazmi\")\n",
    "print(\"Kelas : TI J 22\")\n",
    "print(\"Nim : 20220040239\")\n",
    "\n",
    "print(\"\\n\")\n",
    "\n",
    "def LuasSegitiga():\n",
    "    print(\"======Hitung Luas Segitiga======\")\n",
    "    alas = float(input(\"Masukan alasnya: \"))\n",
    "    tinggi= float(input(\"Masukan tingginya: \"))\n",
    "    luas = 1/2*alas*tinggi\n",
    "    print(\"Luas Segitiga Adalah: \", luas, (\"cm2\"))\n",
    "    \n",
    "def LuasPersegiPanjang():\n",
    "    print(\"======Hitung Luas Persegi Panjang======\")\n",
    "    panjang=int(input(\"Masukan tingginya: \"))\n",
    "    lebar =int(input(\"Masukan lebarnya: \"))\n",
    "    luas= panjang*lebar\n",
    "    print(\"Luas Persegi Panjang Adalah :\", luas,(\"cm2\"))\n",
    "    \n",
    "def MenentukanBilanganGanjildanGenap():\n",
    "    print(\"======Menentukan Bilangan Ganjil dan Genap======\")\n",
    "    bil=int(input(\"Masukan Bilangan: \"))\n",
    "    if bil % 2 == 0:\n",
    "        print (\"%d adalah bilangan genap\" %bil)\n",
    "    else:\n",
    "        print (\"%d adalah bilangan ganjil\" %bil)\n",
    "            \n",
    "while True:\n",
    "    print(\"====== Program kalkulator Sederhana ======\")\n",
    "    userinput =int(input(\n",
    "        \"Menu \\n1. Luas Segitiga \\n2. Luas Persegi Panjang \\n3. Tentukan Number Ganjil Genap \\n4. Quit \\n Pilih Nomor: \" ))\n",
    "    if (userinput == 1):\n",
    "        LuasSegitiga()\n",
    "    elif (userinput == 2):\n",
    "        LuasPersegiPanjang()\n",
    "    elif (userinput == 3):\n",
    "        MenentukanBilanganGanjildanGenap()\n",
    "    else :\n",
    "        print(\"PROGRAM SELESAI TERIMAKASIH TELAH MEMAKAI APLIKASI KAMI🤞\")\n",
    "        break"
   ]
  }
 ],
 "metadata": {
  "kernelspec": {
   "display_name": "Python 3.9.12 ('base')",
   "language": "python",
   "name": "python3"
  },
  "language_info": {
   "codemirror_mode": {
    "name": "ipython",
    "version": 3
   },
   "file_extension": ".py",
   "mimetype": "text/x-python",
   "name": "python",
   "nbconvert_exporter": "python",
   "pygments_lexer": "ipython3",
   "version": "3.9.12"
  },
  "orig_nbformat": 4,
  "vscode": {
   "interpreter": {
    "hash": "77a5212d832c8e0ccca5bf6595128946e2a59099a874db2a9b1d47d1913fe612"
   }
  }
 },
 "nbformat": 4,
 "nbformat_minor": 2
}
